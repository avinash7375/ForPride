'''# Seaborn Tutorial: Data Visualization with Penguins Dataset

## 1. Importing Datasets and Libraries'''

# Install Seaborn if not installed
!pip install seaborn matplotlib pandas

# Import necessary libraries
import seaborn as sns
import matplotlib.pyplot as plt
import pandas as pd

# Load the Penguins dataset
penguins = sns.load_dataset("penguins")

# Display the first few rows
print(penguins.head())

'''## 2. Seaborn - Figure Aesthetic'''

sns.set_style("darkgrid")  # Other styles: whitegrid, dark, white, ticks

plt.figure(figsize=(8,5))
sns.scatterplot(x="bill_length_mm", y="bill_depth_mm", hue="species", data=penguins)
plt.title("Bill Length vs Bill Depth")
plt.show()

'''## 3. Seaborn - Color Palette 🎨'''

sns.set_palette("husl")  # Other options: deep, pastel, bright, coolwarm

sns.histplot(penguins["flipper_length_mm"], bins=20, kde=True)
plt.title("Flipper Length Distribution")
plt.show()

'''## 4. Seaborn - Histogram'''

sns.histplot(data=penguins, x="body_mass_g", hue="species", kde=True, bins=30)
plt.title("Distribution of Penguin Body Mass")
plt.show()

'''## 5. Seaborn - Kernel Density Estimates (KDE)'''

sns.kdeplot(data=penguins, x="flipper_length_mm", hue="species", fill=True)
plt.title("Density of Flipper Length by Species")
plt.show()

'''## 6. Visualizing Pairwise Relationships'''

sns.pairplot(penguins, hue="species")
plt.show()

'''## 7. Seaborn - Plotting Categorical Data'''

sns.catplot(x="species", y="body_mass_g", kind="box", data=penguins)
plt.title("Box Plot of Body Mass by Species")
plt.show()

'''## 8. Distribution of Observations'''

sns.violinplot(x="species", y="flipper_length_mm", data=penguins)
plt.title("Violin Plot of Flipper Length by Species")
plt.show()

'''## 9. Seaborn - Statistical Estimation'''

sns.barplot(x="species", y="body_mass_g", data=penguins, ci="sd")
plt.title("Average Body Mass by Species with Standard Deviation")
plt.show()

'''## 10. Seaborn - Plotting Wide Form Data'''

sns.boxplot(data=penguins[["bill_length_mm", "bill_depth_mm", "flipper_length_mm"]])
plt.title("Distribution of Penguin Measurements")
plt.show()

'''## 11. Multi-Panel Categorical Plots'''

g = sns.FacetGrid(penguins, col="species", margin_titles=True)
g.map_dataframe(sns.scatterplot, x="bill_length_mm", y="bill_depth_mm")
plt.show()

'''## 12. Seaborn - Linear Relationships'''

sns.lmplot(x="flipper_length_mm", y="body_mass_g", hue="species", data=penguins)
plt.title("Linear Relationship between Flipper Length and Body Mass")
plt.show()

'''## 13. Seaborn - Facet Grid'''

g = sns.FacetGrid(penguins, col="island", hue="species", margin_titles=True)
g.map_dataframe(sns.scatterplot, x="bill_length_mm", y="flipper_length_mm")
plt.show()

'''## 14. Seaborn - Pair Grid'''

g = sns.PairGrid(penguins, hue="species")
g.map_diag(sns.histplot)
g.map_offdiag(sns.scatterplot)
g.add_legend()
plt.show()
